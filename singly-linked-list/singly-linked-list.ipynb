{
 "cells": [
  {
   "cell_type": "code",
   "execution_count": 63,
   "metadata": {},
   "outputs": [],
   "source": [
    "import random"
   ]
  },
  {
   "cell_type": "code",
   "execution_count": 64,
   "metadata": {},
   "outputs": [],
   "source": [
    "class Student:\n",
    "    \n",
    "    student_id = 0\n",
    "    student_reg_num = random.randint(0, 999999)\n",
    "    \n",
    "    def __init__(self, name):\n",
    "        self.id = Student.student_id\n",
    "        self.student_reg_num = Student.student_reg_num\n",
    "        self.name = name\n",
    "        self.next_node = None\n",
    "        \n",
    "        Student.student_id += 1\n",
    "        Student.student_reg_num = random.randint(0, 999999)\n",
    "        \n",
    "    def __str__(self):\n",
    "        return f\"{self.name} has RG: {self.student_reg_num} and has id: {self.id}\""
   ]
  },
  {
   "cell_type": "code",
   "execution_count": 65,
   "metadata": {},
   "outputs": [],
   "source": [
    "class SinglyLinkedList(object):\n",
    "    \n",
    "    def __init__(self):\n",
    "        self.head = None\n",
    "    \n",
    "    def size(self):\n",
    "        count = 0\n",
    "        \n",
    "        current_node = self.head\n",
    "        \n",
    "        while current_node is not None:\n",
    "            count += 1\n",
    "            current_node = current_node.next_node\n",
    "        \n",
    "        return count\n",
    "        \n",
    "    \n",
    "    def print_sll(self):\n",
    "        current_node = self.head\n",
    "        \n",
    "        while current_node is not None:\n",
    "            print(current_node)\n",
    "            current_node = current_node.next_node\n",
    "            \n",
    "    def insert_at_start(self, name):\n",
    "        new_node = Student(name)\n",
    "        new_node.next_node = self.head\n",
    "        self.head = new_node\n",
    "        \n",
    "    def insert_at_end(self, name):\n",
    "        new_node = Student(name)\n",
    "        \n",
    "        if self.head is None:\n",
    "            self.head = new_node\n",
    "            \n",
    "            return\n",
    "        \n",
    "        last_node = self.head\n",
    "        \n",
    "        while(last_node.next_node):\n",
    "            last_node = last_node.next_node\n",
    "        \n",
    "        last_node.next_node = new_node\n",
    "        \n",
    "    def insert_at_index(self, index, name):\n",
    "        \n",
    "        sll_size = self.size()\n",
    "        \n",
    "        if index < 0:\n",
    "            return \"Invalid position\"\n",
    "        \n",
    "        if index == 0:\n",
    "            return self.insert_at_start(name)\n",
    "            \n",
    "        if index == sll_size:\n",
    "            return self.insert_at_end(name)\n",
    "        \n",
    "        if index > sll_size:\n",
    "            print(\"Index is bigger than list size, adding node at the end\")\n",
    "            return self.insert_at_end(name)\n",
    "        \n",
    "        if self.head is None:\n",
    "            print(\"The list is empty, adding node anyway.\")\n",
    "            self.head = new_node\n",
    "            \n",
    "            return\n",
    "        \n",
    "        new_node = Student(name)\n",
    "        count = 0\n",
    "        \n",
    "        current_node = self.head\n",
    "        \n",
    "        while count is not index - 1:\n",
    "            count += 1\n",
    "            current_node = current_node.next_node\n",
    "            \n",
    "        temp_node = current_node.next_node\n",
    "        current_node.next_node = new_node\n",
    "        new_node.next_node = temp_node\n",
    "        \n",
    "        "
   ]
  },
  {
   "cell_type": "code",
   "execution_count": 66,
   "metadata": {},
   "outputs": [],
   "source": [
    "sll = SinglyLinkedList()\n",
    "sll.insert_at_start(\"Evandro\")\n",
    "sll.insert_at_end(\"Victor\")\n",
    "sll.insert_at_end(\"Leonardo\")\n",
    "sll.insert_at_end(\"Jordão\")"
   ]
  },
  {
   "cell_type": "code",
   "execution_count": 67,
   "metadata": {},
   "outputs": [],
   "source": [
    "sll.insert_at_index(2, \"Café\")"
   ]
  },
  {
   "cell_type": "code",
   "execution_count": 68,
   "metadata": {},
   "outputs": [],
   "source": [
    "sll.insert_at_index(4, \"Perdigueiro\")"
   ]
  },
  {
   "cell_type": "code",
   "execution_count": 69,
   "metadata": {},
   "outputs": [],
   "source": [
    "sll.insert_at_index(6, \"Aurilene\")"
   ]
  },
  {
   "cell_type": "code",
   "execution_count": 70,
   "metadata": {},
   "outputs": [
    {
     "name": "stdout",
     "output_type": "stream",
     "text": [
      "Index is bigger than list size, adding node at the end\n"
     ]
    }
   ],
   "source": [
    "sll.insert_at_index(8, \"João Paulo\")"
   ]
  },
  {
   "cell_type": "code",
   "execution_count": 71,
   "metadata": {},
   "outputs": [
    {
     "name": "stdout",
     "output_type": "stream",
     "text": [
      "Evandro has RG: 283477 and has id: 0\n",
      "Victor has RG: 497109 and has id: 1\n",
      "Café has RG: 106038 and has id: 4\n",
      "Leonardo has RG: 971744 and has id: 2\n",
      "Perdigueiro has RG: 96252 and has id: 5\n",
      "Jordão has RG: 505423 and has id: 3\n",
      "Aurilene has RG: 880986 and has id: 6\n",
      "João Paulo has RG: 966209 and has id: 7\n"
     ]
    }
   ],
   "source": [
    "sll.print_sll()"
   ]
  },
  {
   "cell_type": "code",
   "execution_count": 72,
   "metadata": {},
   "outputs": [
    {
     "data": {
      "text/plain": [
       "8"
      ]
     },
     "execution_count": 72,
     "metadata": {},
     "output_type": "execute_result"
    }
   ],
   "source": [
    "sll.size()"
   ]
  },
  {
   "cell_type": "code",
   "execution_count": 73,
   "metadata": {},
   "outputs": [],
   "source": [
    "#del(sll)"
   ]
  }
 ],
 "metadata": {
  "kernelspec": {
   "display_name": "Python 3",
   "language": "python",
   "name": "python3"
  },
  "language_info": {
   "codemirror_mode": {
    "name": "ipython",
    "version": 3
   },
   "file_extension": ".py",
   "mimetype": "text/x-python",
   "name": "python",
   "nbconvert_exporter": "python",
   "pygments_lexer": "ipython3",
   "version": "3.8.5"
  }
 },
 "nbformat": 4,
 "nbformat_minor": 4
}
