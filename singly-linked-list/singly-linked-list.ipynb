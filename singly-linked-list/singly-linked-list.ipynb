{
 "cells": [
  {
   "cell_type": "code",
   "execution_count": 1,
   "metadata": {},
   "outputs": [],
   "source": [
    "# Used to generate random registration numbers \n",
    "import random"
   ]
  },
  {
   "cell_type": "code",
   "execution_count": 2,
   "metadata": {},
   "outputs": [],
   "source": [
    "# Class Student. Every student has an incrementional id, registration number and name.\n",
    "class Student:\n",
    "    \n",
    "    # Student indentification\n",
    "    student_id = 0\n",
    "    student_reg_num = random.randint(0, 999999)\n",
    "    \n",
    "    # Constructor\n",
    "    def __init__(self, name):\n",
    "        self.id = Student.student_id\n",
    "        self.student_reg_num = Student.student_reg_num\n",
    "        self.name = name\n",
    "        self.next_node = None\n",
    "        \n",
    "        Student.student_id += 1\n",
    "        Student.student_reg_num = random.randint(0, 999999)\n",
    "    \n",
    "    # Descriptor\n",
    "    def __str__(self):\n",
    "        return f\"{self.name} has RG: {self.student_reg_num} and has id: {self.id}\""
   ]
  },
  {
   "cell_type": "code",
   "execution_count": 3,
   "metadata": {},
   "outputs": [],
   "source": [
    "class SinglyLinkedList(object):\n",
    "    \n",
    "    # Constuctor in which initializes the Singly Linked List with a Head of None.\n",
    "    def __init__(self):\n",
    "        self.head = None\n",
    "    \n",
    "    def search(self, name):\n",
    "        \n",
    "        if (not self.head): return \"Nothing to search for, list is empty.\"\n",
    "        \n",
    "        current_node = self.head\n",
    "        \n",
    "        while current_node:\n",
    "            if current_node.name == name:\n",
    "                print(current_node)\n",
    "                return\n",
    "            current_node = current_node.next_node\n",
    "        \n",
    "        return \"Student is not in the list.\"\n",
    "    \n",
    "    # Returns the size of the Singly Linked List\n",
    "    def size(self):\n",
    "        \n",
    "        if (not self.head): return \"Nothing to measure, list is empty.\"\n",
    "        \n",
    "        num_nodes = 0\n",
    "        \n",
    "        current_node = self.head\n",
    "        \n",
    "        while current_node:\n",
    "            num_nodes += 1\n",
    "            current_node = current_node.next_node\n",
    "        \n",
    "        return num_nodes\n",
    "        \n",
    "    # Print all elements inside the list\n",
    "    def print_sll(self):\n",
    "        \n",
    "        if (not self.head): return \"Nothing to show, list is empty.\"\n",
    "        \n",
    "        current_node = self.head\n",
    "        \n",
    "        while current_node:\n",
    "            print(current_node)\n",
    "            current_node = current_node.next_node\n",
    "    \n",
    "    # Insert a new element at the beginning\n",
    "    def insert_at_start(self, name):\n",
    "        new_node = Student(name)\n",
    "        new_node.next_node = self.head\n",
    "        self.head = new_node\n",
    "    \n",
    "    # Inser a new element at the end\n",
    "    def insert_at_end(self, name):\n",
    "        \n",
    "        if not self.head:\n",
    "            self.insert_at_start(name)\n",
    "            \n",
    "            return\n",
    "        \n",
    "        new_node = Student(name)\n",
    "        \n",
    "        last_node = self.head\n",
    "        \n",
    "        while(last_node.next_node):\n",
    "            last_node = last_node.next_node\n",
    "        \n",
    "        last_node.next_node = new_node\n",
    "    \n",
    "    # Insert a new element after a given position\n",
    "    def insert_at_index(self, index, name):\n",
    "        \n",
    "        if not self.head:\n",
    "            self.insert_at_start(name)\n",
    "            \n",
    "            return\n",
    "        \n",
    "        if index < 0:\n",
    "            return \"Invalid position\"\n",
    "        \n",
    "        if index == 0:\n",
    "            return self.insert_at_start(name)\n",
    "        \n",
    "        if index == self.size():\n",
    "            return self.insert_at_end(name)\n",
    "        \n",
    "        if index > self.size():\n",
    "            print(\"Index is bigger than list size, adding node at the end\")\n",
    "            return self.insert_at_end(name)\n",
    "        \n",
    "        new_node = Student(name)\n",
    "        count = 0\n",
    "        \n",
    "        current_node = self.head\n",
    "        \n",
    "        while count is not index - 1:\n",
    "            count += 1\n",
    "            current_node = current_node.next_node\n",
    "            \n",
    "        temp_node = current_node.next_node\n",
    "        current_node.next_node = new_node\n",
    "        new_node.next_node = temp_node\n",
    "        \n",
    "    # Remove the first node\n",
    "    def remove_from_start(self):\n",
    "        \n",
    "        if (not self.head): return \"Nothing to remove, list is empty.\"\n",
    "        \n",
    "        self.head = self.head.next_node\n",
    "        \n",
    "    # Remove the last node\n",
    "    def remove_from_end(self):\n",
    "        \n",
    "        if (not self.head): return \"Nothing to remove, list is empty.\"\n",
    "        \n",
    "        size = sll.size()\n",
    "        count = 0\n",
    "        \n",
    "        current_node = self.head\n",
    "        \n",
    "        while count < size - 2:\n",
    "            count += 1\n",
    "            current_node = current_node.next_node\n",
    "        \n",
    "        current_node.next_node = None\n",
    "        \n",
    "    # Remove from position\n",
    "    def remove_from_position(self, index):\n",
    "        \n",
    "        if (not self.head): return \"Nothing to remove, list is empty.\"\n",
    "        \n",
    "        if index < 0:\n",
    "            return \"Invalid position\"\n",
    "        \n",
    "        if index == 0:\n",
    "            return self.remove_from_start()\n",
    "        \n",
    "        if index == self.size():\n",
    "            return self.remove_from_end()\n",
    "        \n",
    "        if index > self.size():\n",
    "            print(\"Index is bigger than list size, removing node at the end\")\n",
    "            return self.remove_from_end()\n",
    "                \n",
    "        count = 0\n",
    "        \n",
    "        current_node = self.head\n",
    "        \n",
    "        while count is not index - 2:\n",
    "            count += 1\n",
    "            current_node = current_node.next_node\n",
    "            \n",
    "        temp_node = current_node.next_node.next_node\n",
    "        current_node.next_node = None\n",
    "        current_node.next_node = temp_node"
   ]
  },
  {
   "cell_type": "code",
   "execution_count": 4,
   "metadata": {},
   "outputs": [],
   "source": [
    "sll = SinglyLinkedList()"
   ]
  },
  {
   "cell_type": "code",
   "execution_count": 5,
   "metadata": {},
   "outputs": [
    {
     "data": {
      "text/plain": [
       "'Nothing to measure, list is empty.'"
      ]
     },
     "execution_count": 5,
     "metadata": {},
     "output_type": "execute_result"
    }
   ],
   "source": [
    "sll.size()"
   ]
  },
  {
   "cell_type": "code",
   "execution_count": 6,
   "metadata": {},
   "outputs": [
    {
     "data": {
      "text/plain": [
       "'Nothing to show, list is empty.'"
      ]
     },
     "execution_count": 6,
     "metadata": {},
     "output_type": "execute_result"
    }
   ],
   "source": [
    "sll.print_sll()"
   ]
  },
  {
   "cell_type": "code",
   "execution_count": 7,
   "metadata": {},
   "outputs": [
    {
     "data": {
      "text/plain": [
       "'Nothing to search for, list is empty.'"
      ]
     },
     "execution_count": 7,
     "metadata": {},
     "output_type": "execute_result"
    }
   ],
   "source": [
    "sll.search(\"Test\")"
   ]
  },
  {
   "cell_type": "code",
   "execution_count": 8,
   "metadata": {},
   "outputs": [],
   "source": [
    "sll.insert_at_end(\"Leonardo\")"
   ]
  },
  {
   "cell_type": "code",
   "execution_count": 9,
   "metadata": {},
   "outputs": [],
   "source": [
    "sll.insert_at_end(\"Evandro\")"
   ]
  },
  {
   "cell_type": "code",
   "execution_count": 10,
   "metadata": {},
   "outputs": [],
   "source": [
    "sll.insert_at_start(\"Jordão\")"
   ]
  },
  {
   "cell_type": "code",
   "execution_count": 11,
   "metadata": {},
   "outputs": [],
   "source": [
    "sll.insert_at_index(2, \"Victor\")"
   ]
  },
  {
   "cell_type": "code",
   "execution_count": 12,
   "metadata": {},
   "outputs": [],
   "source": [
    "sll.insert_at_index(0, \"Café\")"
   ]
  },
  {
   "cell_type": "code",
   "execution_count": 13,
   "metadata": {},
   "outputs": [
    {
     "data": {
      "text/plain": [
       "'Invalid position'"
      ]
     },
     "execution_count": 13,
     "metadata": {},
     "output_type": "execute_result"
    }
   ],
   "source": [
    "sll.insert_at_index(-1, \"Fernando\")"
   ]
  },
  {
   "cell_type": "code",
   "execution_count": 14,
   "metadata": {},
   "outputs": [
    {
     "name": "stdout",
     "output_type": "stream",
     "text": [
      "Index is bigger than list size, adding node at the end\n"
     ]
    }
   ],
   "source": [
    "sll.insert_at_index(9, \"Perdigueiro\")"
   ]
  },
  {
   "cell_type": "code",
   "execution_count": 15,
   "metadata": {},
   "outputs": [],
   "source": [
    "sll.insert_at_index(5, \"Aurilene\")"
   ]
  },
  {
   "cell_type": "code",
   "execution_count": 16,
   "metadata": {},
   "outputs": [],
   "source": [
    "sll.insert_at_index(7, \"JP\")"
   ]
  },
  {
   "cell_type": "code",
   "execution_count": 17,
   "metadata": {},
   "outputs": [
    {
     "name": "stdout",
     "output_type": "stream",
     "text": [
      "Café has RG: 285969 and has id: 4\n",
      "Jordão has RG: 215505 and has id: 2\n",
      "Leonardo has RG: 89748 and has id: 0\n",
      "Victor has RG: 366102 and has id: 3\n",
      "Evandro has RG: 600501 and has id: 1\n",
      "Aurilene has RG: 886905 and has id: 6\n",
      "Perdigueiro has RG: 834433 and has id: 5\n",
      "JP has RG: 756473 and has id: 7\n"
     ]
    }
   ],
   "source": [
    "sll.print_sll()"
   ]
  },
  {
   "cell_type": "code",
   "execution_count": 18,
   "metadata": {},
   "outputs": [
    {
     "data": {
      "text/plain": [
       "8"
      ]
     },
     "execution_count": 18,
     "metadata": {},
     "output_type": "execute_result"
    }
   ],
   "source": [
    "sll.size()"
   ]
  },
  {
   "cell_type": "code",
   "execution_count": 19,
   "metadata": {},
   "outputs": [],
   "source": [
    "sll.remove_from_start()"
   ]
  },
  {
   "cell_type": "code",
   "execution_count": 20,
   "metadata": {},
   "outputs": [],
   "source": [
    "sll.remove_from_end()"
   ]
  },
  {
   "cell_type": "code",
   "execution_count": 21,
   "metadata": {},
   "outputs": [],
   "source": [
    "sll.remove_from_position(5)"
   ]
  },
  {
   "cell_type": "code",
   "execution_count": 22,
   "metadata": {},
   "outputs": [],
   "source": [
    "sll.remove_from_position(5)"
   ]
  },
  {
   "cell_type": "code",
   "execution_count": 23,
   "metadata": {},
   "outputs": [
    {
     "name": "stdout",
     "output_type": "stream",
     "text": [
      "Jordão has RG: 215505 and has id: 2\n",
      "Leonardo has RG: 89748 and has id: 0\n",
      "Victor has RG: 366102 and has id: 3\n",
      "Evandro has RG: 600501 and has id: 1\n"
     ]
    }
   ],
   "source": [
    "sll.print_sll()"
   ]
  },
  {
   "cell_type": "code",
   "execution_count": 24,
   "metadata": {},
   "outputs": [
    {
     "data": {
      "text/plain": [
       "4"
      ]
     },
     "execution_count": 24,
     "metadata": {},
     "output_type": "execute_result"
    }
   ],
   "source": [
    "sll.size()"
   ]
  },
  {
   "cell_type": "code",
   "execution_count": 25,
   "metadata": {},
   "outputs": [
    {
     "data": {
      "text/plain": [
       "'Student is not in the list.'"
      ]
     },
     "execution_count": 25,
     "metadata": {},
     "output_type": "execute_result"
    }
   ],
   "source": [
    "sll.search(\"Café\")"
   ]
  },
  {
   "cell_type": "code",
   "execution_count": 26,
   "metadata": {},
   "outputs": [
    {
     "name": "stdout",
     "output_type": "stream",
     "text": [
      "Leonardo has RG: 89748 and has id: 0\n"
     ]
    }
   ],
   "source": [
    "sll.search(\"Leonardo\")"
   ]
  }
 ],
 "metadata": {
  "kernelspec": {
   "display_name": "Python 3",
   "language": "python",
   "name": "python3"
  },
  "language_info": {
   "codemirror_mode": {
    "name": "ipython",
    "version": 3
   },
   "file_extension": ".py",
   "mimetype": "text/x-python",
   "name": "python",
   "nbconvert_exporter": "python",
   "pygments_lexer": "ipython3",
   "version": "3.8.5"
  }
 },
 "nbformat": 4,
 "nbformat_minor": 4
}
