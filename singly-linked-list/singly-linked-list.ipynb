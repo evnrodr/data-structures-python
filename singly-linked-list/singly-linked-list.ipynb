{
 "cells": [
  {
   "cell_type": "code",
   "execution_count": 23,
   "metadata": {},
   "outputs": [],
   "source": [
    "class Node:\n",
    "    \n",
    "    node_id = 0\n",
    "    next_node = None\n",
    "    \n",
    "    def __init__(self, name):\n",
    "        self.id = Node.node_id\n",
    "        self.name = name\n",
    "        self.next_node = Node.next_node\n",
    "        \n",
    "        Node.node_id += 1\n",
    "        \n",
    "    def __str__(self):\n",
    "        return f\"{self.name} has id: {self.id}\""
   ]
  },
  {
   "cell_type": "code",
   "execution_count": null,
   "metadata": {},
   "outputs": [],
   "source": [
    "# node addNode(node head, int value) {\n",
    "#     node temp, p; // declare two nodes temp and p\n",
    "#     temp = createNode(); // assume createNode creates a new node with data = 0 and next pointing to NULL.\n",
    "#     temp->data = value; // add element's value to data part of node\n",
    "#     if (head == NULL) {\n",
    "#         head = temp;     // when linked list is empty\n",
    "#     }\n",
    "#     else {\n",
    "#         p = head; // assign head to p \n",
    "#         while (p->next != NULL) {\n",
    "#             p = p->next; // traverse the list until p is the last node. The last node always points to NULL.\n",
    "#         }\n",
    "#         p->next = temp; // Point the previous last node to the new node created.\n",
    "#     }\n",
    "#     return head;\n",
    "# }"
   ]
  },
  {
   "cell_type": "code",
   "execution_count": 24,
   "metadata": {},
   "outputs": [],
   "source": [
    "def insert_node(head, name):\n",
    "    new_node = Node(name)\n",
    "    \n",
    "    if head == None:\n",
    "        head = new_node\n",
    "    else:\n",
    "        p = head\n",
    "        \n",
    "        while p.next_node != None:\n",
    "            p = p.next_node\n",
    "            \n",
    "        p.next_node = new_node\n",
    "    \n",
    "    return head"
   ]
  },
  {
   "cell_type": "code",
   "execution_count": 25,
   "metadata": {},
   "outputs": [],
   "source": [
    "Evandro = Node(\"Evandro\")"
   ]
  },
  {
   "cell_type": "code",
   "execution_count": 27,
   "metadata": {},
   "outputs": [
    {
     "data": {
      "text/plain": [
       "<__main__.Node at 0x7f6d4375b640>"
      ]
     },
     "execution_count": 27,
     "metadata": {},
     "output_type": "execute_result"
    }
   ],
   "source": [
    "insert_node(Evandro, \"Leonardo\")"
   ]
  },
  {
   "cell_type": "code",
   "execution_count": 31,
   "metadata": {},
   "outputs": [
    {
     "data": {
      "text/plain": [
       "<__main__.Node at 0x7f6d4375b640>"
      ]
     },
     "execution_count": 31,
     "metadata": {},
     "output_type": "execute_result"
    }
   ],
   "source": [
    "insert_node(Evandro, \"Jordão\")"
   ]
  },
  {
   "cell_type": "code",
   "execution_count": 32,
   "metadata": {},
   "outputs": [
    {
     "data": {
      "text/plain": [
       "<__main__.Node at 0x7f6d4375b640>"
      ]
     },
     "execution_count": 32,
     "metadata": {},
     "output_type": "execute_result"
    }
   ],
   "source": [
    "insert_node(Evandro, \"Victor\")"
   ]
  },
  {
   "cell_type": "code",
   "execution_count": 33,
   "metadata": {},
   "outputs": [
    {
     "data": {
      "text/plain": [
       "<__main__.Node at 0x7f6d4375b640>"
      ]
     },
     "execution_count": 33,
     "metadata": {},
     "output_type": "execute_result"
    }
   ],
   "source": [
    "insert_node(Evandro, \"Café\")"
   ]
  },
  {
   "cell_type": "code",
   "execution_count": 34,
   "metadata": {},
   "outputs": [
    {
     "data": {
      "text/plain": [
       "<__main__.Node at 0x7f6d4375b640>"
      ]
     },
     "execution_count": 34,
     "metadata": {},
     "output_type": "execute_result"
    }
   ],
   "source": [
    "insert_node(Evandro, \"Perdigueiro\")"
   ]
  },
  {
   "cell_type": "code",
   "execution_count": 40,
   "metadata": {},
   "outputs": [
    {
     "name": "stdout",
     "output_type": "stream",
     "text": [
      "None\n"
     ]
    }
   ],
   "source": [
    "print(Evandro.next_node.next_node.next_node.next_node.next_node.next_node)"
   ]
  }
 ],
 "metadata": {
  "kernelspec": {
   "display_name": "Python 3",
   "language": "python",
   "name": "python3"
  },
  "language_info": {
   "codemirror_mode": {
    "name": "ipython",
    "version": 3
   },
   "file_extension": ".py",
   "mimetype": "text/x-python",
   "name": "python",
   "nbconvert_exporter": "python",
   "pygments_lexer": "ipython3",
   "version": "3.8.5"
  }
 },
 "nbformat": 4,
 "nbformat_minor": 4
}
